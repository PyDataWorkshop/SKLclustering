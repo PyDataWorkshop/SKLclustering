{
 "cells": [
  {
   "cell_type": "markdown",
   "metadata": {},
   "source": [
    "Finding the closest objects in the feature space\n",
    "=======================================================\n",
    "Sometimes, the easiest thing to do is to just \f",
    "nd the distance between\n",
    "two objects. We just need to \f",
    "nd some distance metric, compute the\n",
    "pairwise distances, and compare the outcomes to what's expected.\n",
    "\n",
    "#### Getting ready\n",
    "- A lower-level utility in scikit-learn is sklearn.metrics.pairwise.\n",
    "This contains server functions to compute the distances between\n",
    "the vectors in a matrix X or the distances between the vectors\n",
    "in X and Y easily.\n",
    "- This can be useful for information retrieval. For example, given\n",
    "a set of customers with attributes of X, we might want to take\n",
    "a reference customer and \f",
    "nd the closest customers to this cus-\n",
    "tomer.\n",
    "- In this scenario, we might want to rank customers by the notion\n",
    "of similarity measured by a distance function. The quality of\n",
    "the similarity depends upon the feature space selection as well\n",
    "as any transformation we might do on the space."
   ]
  },
  {
   "cell_type": "markdown",
   "metadata": {},
   "source": [
    "We'll walk through several di\u000b",
    "erent scenarios of measuring distance.\n",
    "Implementation\n",
    "We will use the pairwise distances function to determine the \"close-\n",
    "ness\" of objects. Remember that the closeness is really just similarity\n",
    "that we use our distance function to assess.\n",
    "First, let's import the pairwise distance function from the metrics\n",
    "module and create a dataset to play with:"
   ]
  },
  {
   "cell_type": "code",
   "execution_count": 2,
   "metadata": {
    "collapsed": true
   },
   "outputs": [],
   "source": [
    "import numpy as np \n",
    "from sklearn.metrics import pairwise\n",
    "from sklearn.datasets import make_blobs\n",
    "points, labels = make_blobs()\n"
   ]
  },
  {
   "cell_type": "markdown",
   "metadata": {},
   "source": [
    "This simplest way to check the distances is pairwise distances:\n"
   ]
  },
  {
   "cell_type": "code",
   "execution_count": 7,
   "metadata": {},
   "outputs": [],
   "source": [
    "distances = pairwise.pairwise_distances(points)\n",
    "#distances"
   ]
  },
  {
   "cell_type": "markdown",
   "metadata": {},
   "source": [
    "distances is an N x N matrix with 0s along the diagonals. In the\n",
    "simplest case, let's see the distances between each point and the \f",
    "rst\n",
    "point:"
   ]
  },
  {
   "cell_type": "code",
   "execution_count": 8,
   "metadata": {},
   "outputs": [
    {
     "data": {
      "text/plain": [
       "array([ 0.,  0.,  0.,  0.,  0.])"
      ]
     },
     "execution_count": 8,
     "metadata": {},
     "output_type": "execute_result"
    }
   ],
   "source": [
    "np.diag(distances) [:5]\n"
   ]
  },
  {
   "cell_type": "markdown",
   "metadata": {},
   "source": [
    "Now we can look for points that are closest to the first point inpoints:\n"
   ]
  },
  {
   "cell_type": "code",
   "execution_count": 9,
   "metadata": {},
   "outputs": [
    {
     "data": {
      "text/plain": [
       "array([  0.        ,  12.24904308,   4.04040824,  12.77570536,   0.9984187 ])"
      ]
     },
     "execution_count": 9,
     "metadata": {},
     "output_type": "execute_result"
    }
   ],
   "source": [
    "distances[0][:5]\n"
   ]
  },
  {
   "cell_type": "markdown",
   "metadata": {},
   "source": [
    "Ranking the points by closeness is very easy with `np.argsort`:\n"
   ]
  },
  {
   "cell_type": "code",
   "execution_count": 10,
   "metadata": {},
   "outputs": [
    {
     "data": {
      "text/plain": [
       "array([ 0, 49, 28, 97, 79])"
      ]
     },
     "execution_count": 10,
     "metadata": {},
     "output_type": "execute_result"
    }
   ],
   "source": [
    "ranks = np.argsort(distances[0])\n",
    "ranks[:5]\n"
   ]
  },
  {
   "cell_type": "markdown",
   "metadata": {},
   "source": [
    "A useful characteristic of argsort is that now we can sort our\n",
    "points matrix to get the actual points:\n"
   ]
  },
  {
   "cell_type": "code",
   "execution_count": 11,
   "metadata": {},
   "outputs": [
    {
     "data": {
      "text/plain": [
       "array([[ 4.44851113, -4.98728128],\n",
       "       [ 4.67189656, -5.14993938],\n",
       "       [ 4.37803613, -4.46318162],\n",
       "       [ 4.7284959 , -4.23643072],\n",
       "       [ 4.3194771 , -4.1474975 ]])"
      ]
     },
     "execution_count": 11,
     "metadata": {},
     "output_type": "execute_result"
    }
   ],
   "source": [
    "points[ranks][:5]"
   ]
  },
  {
   "cell_type": "markdown",
   "metadata": {
    "collapsed": true
   },
   "source": [
    "It's useful to see what the closest points look like.\n"
   ]
  },
  {
   "cell_type": "markdown",
   "metadata": {},
   "source": [
    "#### Theory : Euclidean Distance\n",
    "\n",
    "Given some distance function, each point is measured in a pairwise\n",
    "function. The default is the Euclidian distance, which is as follows:\n",
    "if $p = (p1; p2; \\ldots; pn)$ and $q = (q_1; q_2; \\ldots; q_n)$ are two points in Euclidean n-space, then the distance (d) from p to q, or from q to p is given by the Pythagorean formula:\n",
    "\n",
    "$$ d(p, q) = d(q, p)=  \\sqrt{(q_1 - p_1)^2 + (q_2 - p_2)^2 + \\ldots + (q_n - p_n)^2 }$$\n",
    "\n",
    "$$ d(p, q) = \\sum_{i=1}^n (q_i - p_i)^2$$\n",
    "\n",
    "Verbally, this takes the difference between each component of the\n",
    "two vectors, squares the difference, sums them, and then takes the\n",
    "square root. \n",
    "\n",
    "This looks very familiar as we used something very\n",
    "similar to this when looking at the mean-squared error. If we take\n",
    "the square root, we have the same thing. In fact, a metric used often\n",
    "is root-mean-square deviation (RMSE), which is just the applied\n",
    "distance function."
   ]
  },
  {
   "cell_type": "markdown",
   "metadata": {
    "collapsed": true
   },
   "source": [
    "\n",
    "In Python, this looks like the following:\n",
    "\n"
   ]
  },
  {
   "cell_type": "code",
   "execution_count": 12,
   "metadata": {},
   "outputs": [
    {
     "data": {
      "text/plain": [
       "12.249043076597852"
      ]
     },
     "execution_count": 12,
     "metadata": {},
     "output_type": "execute_result"
    }
   ],
   "source": [
    "def euclid_distances(x, y):\n",
    "    return np.power(np.power(x - y, 2).sum(), .5)\n",
    "\n",
    "euclid_distances(points[0], points[1])\n"
   ]
  },
  {
   "cell_type": "markdown",
   "metadata": {
    "collapsed": true
   },
   "source": [
    "#### Other Distance Measures\n",
    "There are several other functions available in scikit-learn, but scikit-\n",
    "learn will also use distance functions of SciPy.\n",
    "1. cityblock\n",
    "2. cosine\n",
    "3. euclidean\n",
    "4. L1\n",
    "5. L2\n",
    "6. Manhattan\n",
    "\n",
    "#### Worked Example\n",
    "We can now solve problems. For example, if we were standing on\n",
    "a grid at the origin, and the lines were the streets, how far will we\n",
    "have to travel to get to point (5, 5)?.\n"
   ]
  },
  {
   "cell_type": "code",
   "execution_count": 13,
   "metadata": {},
   "outputs": [
    {
     "data": {
      "text/plain": [
       "array([  0.,  10.])"
      ]
     },
     "execution_count": 13,
     "metadata": {},
     "output_type": "execute_result"
    }
   ],
   "source": [
    "pairwise.pairwise_distances([[0, 2], [6, 6]],metric='cityblock')[0]\n"
   ]
  },
  {
   "cell_type": "code",
   "execution_count": null,
   "metadata": {
    "collapsed": true
   },
   "outputs": [],
   "source": []
  }
 ],
 "metadata": {
  "kernelspec": {
   "display_name": "Python 3",
   "language": "python",
   "name": "python3"
  },
  "language_info": {
   "codemirror_mode": {
    "name": "ipython",
    "version": 3
   },
   "file_extension": ".py",
   "mimetype": "text/x-python",
   "name": "python",
   "nbconvert_exporter": "python",
   "pygments_lexer": "ipython3",
   "version": "3.5.2"
  }
 },
 "nbformat": 4,
 "nbformat_minor": 2
}
